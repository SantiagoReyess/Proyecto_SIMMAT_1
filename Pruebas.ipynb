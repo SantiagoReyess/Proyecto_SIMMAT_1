{
 "cells": [
  {
   "cell_type": "markdown",
   "id": "38b45fc8",
   "metadata": {},
   "source": [
    "# MODELADO DEL PROBLEMA"
   ]
  },
  {
   "cell_type": "markdown",
   "id": "9ed856d3",
   "metadata": {},
   "source": [
    "**Activos y Rendimientos Anuales Porcentuales:**\n",
    "\n",
    "| Variable | Activo | Rendimiento Anual (%) |\n",
    "|----------|--------|-----------------------|\n",
    "| $x_1$    | MSFT   | $62.49%$                |\n",
    "| $x_2$    | AMZN   | $5.09%$                 |\n",
    "| $x_3$    | ADBE   | $22.30%$                |\n",
    "| $x_4$    | BRK.B  | $39.37%$                |\n",
    "| $x_5$    | META   | $31.12%$                |\n",
    "| $x_6$    | CETES  | $11.66%$                |\n"
   ]
  },
  {
   "cell_type": "markdown",
   "id": "41a1f2ea",
   "metadata": {},
   "source": [
    "### Función objetivo:\n",
    "Maximizar: $0.6249x_1 + 0.0509x_2 + 0.2230x_3 + 0.3937x_4 + 0.3112x_5 + 0.1166x_6$\n",
    "\n",
    "### Restricciones:\n",
    "\n",
    "\n",
    "\n",
    "**Restricción de ajuste al total del Portafolio:**\n",
    "\n",
    "\n",
    "$[x_1 + x_2 + ... + x_{34} + x_{35} = 1.0]$\n",
    "\n",
    "\n",
    "\n",
    "**Restricción de porcentaje de cada acción:** \n",
    "\\begin{align*}\n",
    "[x_1 &\\leq 0.08] \\\\\n",
    "[x_2 &\\leq 0.08] \\\\\n",
    "[x_.{... }&\\leq 0.08] \\\\\n",
    "[x_{34} &\\leq 0.08] \\\\\n",
    "[x_{35} &\\leq 0.08] \\\\\n",
    "\\end{align*}"
   ]
  },
  {
   "cell_type": "markdown",
   "id": "3120f59f",
   "metadata": {},
   "source": [
    "# SOLUCIÓN DE PROGRAMACIÓN LINEAL"
   ]
  },
  {
   "cell_type": "code",
   "execution_count": 3,
   "id": "0eaf99b6",
   "metadata": {},
   "outputs": [
    {
     "data": {
      "text/plain": [
       "(array([-0.6249, -0.0509, -0.223 , -0.3937, -0.3112, -0.1166]),\n",
       " array([0.15, 0.15, 0.15, 0.15, 0.15, 1.  ]),\n",
       " array([[1, 0, 0, 0, 0, 0],\n",
       "        [0, 1, 0, 0, 0, 0],\n",
       "        [0, 0, 1, 0, 0, 0],\n",
       "        [0, 0, 0, 1, 0, 0],\n",
       "        [0, 0, 0, 0, 1, 0],\n",
       "        [0, 0, 0, 0, 0, 1]]))"
      ]
     },
     "execution_count": 3,
     "metadata": {},
     "output_type": "execute_result"
    }
   ],
   "source": [
    "#Definir Matrices\n",
    "from scipy.optimize import linprog\n",
    "import numpy as np\n",
    "c = np.array([-0.6249,-0.0509,-0.2230,-0.3937, -0.3112, -0.1166])\n",
    "b = np.array([0.15,0.15,0.15,0.15,0.15,1])\n",
    "A = np.array([[1,0,0,0,0,0],\n",
    "             [0,1,0,0,0,0],\n",
    "             [0,0,1,0,0,0],\n",
    "             [0,0,0,1,0,0],\n",
    "             [0,0,0,0,1,0],\n",
    "             [0,0,0,0,0,1]])\n",
    "A_eq = np.array([[1, 1, 1, 1, 1, 1]])  \n",
    "b_eq = np.array([1.0])\n",
    "x_bounds = [(0, None)] *6\n",
    "c,b,A"
   ]
  },
  {
   "cell_type": "code",
   "execution_count": 4,
   "id": "b0e1cac6",
   "metadata": {},
   "outputs": [
    {
     "data": {
      "text/plain": [
       "        message: Optimization terminated successfully. (HiGHS Status 7: Optimal)\n",
       "        success: True\n",
       "         status: 0\n",
       "            fun: -0.27956\n",
       "              x: [ 1.500e-01  0.000e+00  1.500e-01  1.500e-01  1.500e-01\n",
       "                   4.000e-01]\n",
       "            nit: 0\n",
       "          lower:  residual: [ 1.500e-01  0.000e+00  1.500e-01  1.500e-01\n",
       "                              1.500e-01  4.000e-01]\n",
       "                 marginals: [ 0.000e+00  6.570e-02  0.000e+00  0.000e+00\n",
       "                              0.000e+00  0.000e+00]\n",
       "          upper:  residual: [       inf        inf        inf        inf\n",
       "                                    inf        inf]\n",
       "                 marginals: [ 0.000e+00  0.000e+00  0.000e+00  0.000e+00\n",
       "                              0.000e+00  0.000e+00]\n",
       "          eqlin:  residual: [ 0.000e+00]\n",
       "                 marginals: [-1.166e-01]\n",
       "        ineqlin:  residual: [ 0.000e+00  1.500e-01  0.000e+00  0.000e+00\n",
       "                              0.000e+00  6.000e-01]\n",
       "                 marginals: [-5.083e-01 -0.000e+00 -1.064e-01 -2.771e-01\n",
       "                             -1.946e-01 -0.000e+00]\n",
       " mip_node_count: 0\n",
       " mip_dual_bound: 0.0\n",
       "        mip_gap: 0.0"
      ]
     },
     "execution_count": 4,
     "metadata": {},
     "output_type": "execute_result"
    }
   ],
   "source": [
    "#Solucionar usando linprog\n",
    "\n",
    "solucion = linprog(c, A_ub=A, b_ub=b, A_eq=A_eq, b_eq=b_eq, bounds=x_bounds, method='highs')\n",
    "solucion"
   ]
  },
  {
   "cell_type": "markdown",
   "id": "1e7a4866",
   "metadata": {},
   "source": [
    "# ---"
   ]
  },
  {
   "cell_type": "markdown",
   "id": "9b5b64b3",
   "metadata": {},
   "source": [
    "**Activos y Rendimientos Anuales:**\n",
    "\n",
    "| Variable | Activo | Rendimiento Anual (%) |\n",
    "|----------|--------|-----------------------|\n",
    "| $x_1$    | VFC    | $-2.2032$              |\n",
    "| $x_2$    | MSFT   | $62.496$               |\n",
    "| $x_3$    | AMZN   | $5.076$               |\n",
    "| $x_4$    | NVDA   | $113.148$              |\n",
    "| $x_5$    | GOOGL  | $73.404$               |\n",
    "| $x_6$    | BRK.B  | $39.384$               |\n",
    "| $x_7$    | TSLA   | $52.272$               |\n",
    "| $x_8$    | META   | $31.14$                |\n",
    "| $x_9$    | XOM    | $49.14$                |\n",
    "| $x_{10}$ | UNH    | $54.144$               |\n",
    "| $x_{11}$ | ACN    | $68.04$                |\n",
    "| $x_{12}$ | ADBE   | $22.164$               |\n",
    "| $x_{13}$ | NKE    | $23.868$               |\n",
    "| $x_{14}$ | RTX    | $31.044$               |\n",
    "| $x_{15}$ | AMD    | $63.216$               |\n",
    "| $x_{16}$ | NFLX   | $20.952$               |\n",
    "| $x_{17}$ | QCOM   | $26.208$               |\n",
    "| $x_{18}$ | HON    | $0.036$                |\n",
    "| $x_{19}$ | T      | $-1.764$               |\n",
    "| $x_{20}$ | AMGN   | $2.484$                |\n",
    "| $x_{21}$ | INTC   | $28.764$               |\n",
    "| $x_{22}$ | CTLT   | $49.32$                |\n",
    "| $x_{23}$ | GS     | $-1.764$               |\n",
    "| $x_{24}$ | MDT    | $3.204$                |\n",
    "| $x_{25}$ | DE     | $5.544$                |\n",
    "| $x_{26}$ | ELV    | $1.332$                |\n",
    "| $x_{27}$ | GE     | $0.828$                |\n",
    "| $x_{28}$ | IBM    | $0.828$                |\n",
    "| $x_{29}$ | PYPL   | $-4.176$               |\n",
    "| $x_{30}$ | AZO    | $8.244$                |\n",
    "| $x_{31}$ | KLAC   | $6.948$                |\n",
    "| $x_{32}$ | DG     | $0.18$                 |\n",
    "| $x_{33}$ | PSX    | $0.612$                |\n",
    "| $x_{34}$ | VLO    | $0.396$                |\n",
    "| $x_{35}$ | ALGN   | $0.288$                |\n"
   ]
  },
  {
   "cell_type": "markdown",
   "id": "899e2739",
   "metadata": {},
   "source": [
    "### Función Objetivo:\n",
    "Maximizar: \n",
    "\n",
    "$-2.2032x_1 + 62.496x_2 + 5.076x_3 + 113.148x_4 + 73.404x_5 + 39.384x_6 + 52.272x_7 + 31.14x_8 + 49.14x_9 + 54.144x_{10} + 68.04x_{11} + 22.164x_{12} + 23.868x_{13} + 31.044x_{14} + 63.216x_{15} + 20.952x_{16} + 26.208x_{17} + 0.036x_{18} - 1.764x_{19} + 2.484x_{20} + 28.764x_{21} + 49.32x_{22} - 1.764x_{23} + 3.204x_{24} + 5.544x_{25} + 1.332x_{26} + 0.828x_{27} + 0.828x_{28} - 4.176x_{29} + 8.244x_{30} + 6.948x_{31} + 0.18x_{32} + 0.612x_{33} + 0.396x_{34} + 0.288x_{35}$"
   ]
  },
  {
   "cell_type": "code",
   "execution_count": 38,
   "id": "3c99ab64",
   "metadata": {},
   "outputs": [
    {
     "data": {
      "text/plain": [
       "array([-2.20320e+00,  6.24960e+01,  5.07600e+00,  1.13148e+02,\n",
       "        7.34040e+01,  3.93840e+01,  5.22720e+01,  3.11400e+01,\n",
       "        4.91400e+01,  5.41440e+01,  6.80400e+01,  2.21640e+01,\n",
       "        2.38680e+01,  3.10440e+01,  6.32160e+01,  2.09520e+01,\n",
       "        2.62080e+01,  3.60000e-02, -1.76400e+00,  2.48400e+00,\n",
       "        2.87640e+01,  4.93200e+01, -1.76400e+00,  3.20400e+00,\n",
       "        5.54400e+00,  1.33200e+00,  8.28000e-01,  8.28000e-01,\n",
       "       -4.17600e+00,  8.24400e+00,  6.94800e+00,  1.80000e-01,\n",
       "        6.12000e-01,  3.96000e-01,  2.88000e-01])"
      ]
     },
     "execution_count": 38,
     "metadata": {},
     "output_type": "execute_result"
    }
   ],
   "source": [
    "r = np.array([-2.2032, 62.496, 5.076, 113.148, 73.404, 39.384, 52.272, 31.14, 49.14, 54.144, 68.04, 22.164, 23.868, 31.044, 63.216, 20.952, 26.208, 0.036, -1.764, 2.484, 28.764, 49.32, -1.764, 3.204, 5.544, 1.332, 0.828, 0.828, -4.176, 8.244, 6.948, 0.18, 0.612, 0.396, 0.288])\n",
    "\n",
    "r\n"
   ]
  },
  {
   "cell_type": "markdown",
   "id": "27cbf2a4",
   "metadata": {},
   "source": [
    "**Restricción de ajuste al total del Portafolio:**\n",
    "\n",
    "\n",
    "$[x_1 + x_2 + ... + x_{34} + x_{35} = 1.0]$\n",
    "\n",
    "\n",
    "\n",
    "**Restricción de porcentaje de cada acción:** \n",
    "\\begin{align*}\n",
    "[x_1 &\\leq 0.08] \\\\\n",
    "[x_2 &\\leq 0.08] \\\\\n",
    "[x_.{... }&\\leq 0.08] \\\\\n",
    "[x_{34} &\\leq 0.08] \\\\\n",
    "[x_{35} &\\leq 0.08] \\\\\n",
    "\\end{align*}"
   ]
  },
  {
   "cell_type": "code",
   "execution_count": 57,
   "id": "e7785ac3",
   "metadata": {},
   "outputs": [
    {
     "data": {
      "text/plain": [
       "        message: Optimization terminated successfully. (HiGHS Status 7: Optimal)\n",
       "        success: True\n",
       "         status: 0\n",
       "            fun: -560904.0\n",
       "              x: [ 0.000e+00  8.000e+02 ...  0.000e+00  0.000e+00]\n",
       "            nit: 1\n",
       "          lower:  residual: [ 0.000e+00  8.000e+02 ...  0.000e+00\n",
       "                              0.000e+00]\n",
       "                 marginals: [ 3.097e+01  0.000e+00 ...  2.837e+01\n",
       "                              2.848e+01]\n",
       "          upper:  residual: [       inf        inf ...        inf\n",
       "                                    inf]\n",
       "                 marginals: [ 0.000e+00  0.000e+00 ...  0.000e+00\n",
       "                              0.000e+00]\n",
       "          eqlin:  residual: [ 0.000e+00]\n",
       "                 marginals: [-2.876e+01]\n",
       "        ineqlin:  residual: [ 8.000e+02  0.000e+00 ...  8.000e+02\n",
       "                              8.000e+02]\n",
       "                 marginals: [-0.000e+00 -3.373e+01 ... -0.000e+00\n",
       "                             -0.000e+00]\n",
       " mip_node_count: 0\n",
       " mip_dual_bound: 0.0\n",
       "        mip_gap: 0.0"
      ]
     },
     "execution_count": 57,
     "metadata": {},
     "output_type": "execute_result"
    }
   ],
   "source": [
    "from scipy.optimize import linprog\n",
    "import numpy as np\n",
    "\n",
    "\n",
    "r = np.array([-2.2032, 62.496, 5.076, 113.148, 73.404, 39.384, 52.272, 31.14, 49.14, 54.144, 68.04, 22.164, 23.868, 31.044, 63.216, 20.952, 26.208, 0.036, -1.764, 2.484, 28.764, 49.32, -1.764, 3.204, 5.544, 1.332, 0.828, 0.828, -4.176, 8.244, 6.948, 0.18, 0.612, 0.396, 0.288])\n",
    "\n",
    "presupuesto_total = 10000\n",
    "\n",
    "limite_inversion_por_activo = presupuesto_total * 0.08\n",
    "\n",
    "num_activos = len(r)\n",
    "\n",
    "coeficientes_objetivo = -r \n",
    "\n",
    "# Coeficientes de las restricciones de igualdad (inversión total igual al presupuesto)\n",
    "coeficientes_restriccion_igualdad = np.ones(num_activos)\n",
    "\n",
    "# Lado derecho de la restricción de igualdad (igual al presupuesto total)\n",
    "lado_derecho_restriccion_igualdad = presupuesto_total\n",
    "\n",
    "# Coeficientes de las restricciones de desigualdad (inversión por activo <= 8% del presupuesto total)\n",
    "coeficientes_restriccion_desigualdad = np.eye(num_activos)\n",
    "\n",
    "# Lados derechos de las restricciones de desigualdad (todos iguales a los límites de inversión por activo)\n",
    "lados_derechos_restricciones_desigualdad = limite_inversion_por_activo * np.ones(num_activos)\n",
    "\n",
    "# Límites de las variables (las inversiones son no negativas)\n",
    "limites_variables = [(0, None)] * num_activos\n",
    "\n",
    "# Resolver el problema usando linprog\n",
    "resultado = linprog(c=coeficientes_objetivo, A_eq=[coeficientes_restriccion_igualdad], b_eq=[lado_derecho_restriccion_igualdad], A_ub=coeficientes_restriccion_desigualdad, b_ub=lados_derechos_restricciones_desigualdad, bounds=limites_variables)\n",
    "\n",
    "# Extraer los resultados\n",
    "inversiones_optimas = resultado.x\n",
    "rendimiento_optimo = -resultado.fun\n",
    "\n",
    "resultado"
   ]
  },
  {
   "cell_type": "code",
   "execution_count": 58,
   "id": "a0e20d02",
   "metadata": {},
   "outputs": [
    {
     "name": "stdout",
     "output_type": "stream",
     "text": [
      "Inversiones óptimas por activo:\n",
      "Activo 1: 0.00 USD\n",
      "Activo 2: 800.00 USD\n",
      "Activo 3: 0.00 USD\n",
      "Activo 4: 800.00 USD\n",
      "Activo 5: 800.00 USD\n",
      "Activo 6: 800.00 USD\n",
      "Activo 7: 800.00 USD\n",
      "Activo 8: 800.00 USD\n",
      "Activo 9: 800.00 USD\n",
      "Activo 10: 800.00 USD\n",
      "Activo 11: 800.00 USD\n",
      "Activo 12: 0.00 USD\n",
      "Activo 13: 0.00 USD\n",
      "Activo 14: 800.00 USD\n",
      "Activo 15: 800.00 USD\n",
      "Activo 16: 0.00 USD\n",
      "Activo 17: 0.00 USD\n",
      "Activo 18: 0.00 USD\n",
      "Activo 19: 0.00 USD\n",
      "Activo 20: 0.00 USD\n",
      "Activo 21: 400.00 USD\n",
      "Activo 22: 800.00 USD\n",
      "Activo 23: 0.00 USD\n",
      "Activo 24: 0.00 USD\n",
      "Activo 25: 0.00 USD\n",
      "Activo 26: 0.00 USD\n",
      "Activo 27: 0.00 USD\n",
      "Activo 28: 0.00 USD\n",
      "Activo 29: 0.00 USD\n",
      "Activo 30: 0.00 USD\n",
      "Activo 31: 0.00 USD\n",
      "Activo 32: 0.00 USD\n",
      "Activo 33: 0.00 USD\n",
      "Activo 34: 0.00 USD\n",
      "Activo 35: 0.00 USD\n",
      "Rendimiento óptimo: 560904.000000 USD\n"
     ]
    }
   ],
   "source": [
    "inversiones_optimas = resultado.x\n",
    "rendimiento_optimo = -resultado.fun\n",
    "\n",
    "print(\"Inversiones óptimas por activo:\")\n",
    "for i in range(num_activos):\n",
    "    print(f\"Activo {i+1}: {inversiones_optimas[i]:.2f} USD\")\n",
    "\n",
    "print(f\"Rendimiento óptimo: {rendimiento_optimo:.6f} USD\")"
   ]
  },
  {
   "cell_type": "code",
   "execution_count": 60,
   "id": "c0f1a5d3",
   "metadata": {},
   "outputs": [
    {
     "data": {
      "image/png": "[encoded data removed]",
      "text/plain": [
       "<Figure size 1200x600 with 1 Axes>"
      ]
     },
     "metadata": {},
     "output_type": "display_data"
    }
   ],
   "source": [
    "import matplotlib.pyplot as plt\n",
    "\n",
    "# Datos de las inversiones óptimas por activo\n",
    "activos = [\n",
    "    \"Activo 1\", \"Activo 2\", \"Activo 3\", \"Activo 4\", \"Activo 5\",\n",
    "    \"Activo 6\", \"Activo 7\", \"Activo 8\", \"Activo 9\", \"Activo 10\",\n",
    "    \"Activo 11\", \"Activo 12\", \"Activo 13\", \"Activo 14\", \"Activo 15\",\n",
    "    \"Activo 16\", \"Activo 17\", \"Activo 18\", \"Activo 19\", \"Activo 20\",\n",
    "    \"Activo 21\", \"Activo 22\", \"Activo 23\", \"Activo 24\", \"Activo 25\",\n",
    "    \"Activo 26\", \"Activo 27\", \"Activo 28\", \"Activo 29\", \"Activo 30\",\n",
    "    \"Activo 31\", \"Activo 32\", \"Activo 33\", \"Activo 34\", \"Activo 35\"\n",
    "]\n",
    "\n",
    "inversiones_optimas = [\n",
    "    0.00, 800.00, 0.00, 800.00, 800.00, 800.00, 800.00, 800.00, 800.00, 800.00,\n",
    "    800.00, 0.00, 0.00, 800.00, 800.00, 0.00, 0.00, 0.00, 0.00, 0.00,\n",
    "    400.00, 800.00, 0.00, 0.00, 0.00, 0.00, 0.00, 0.00, 0.00, 0.00,\n",
    "    0.00, 0.00, 0.00, 0.00, 0.00\n",
    "]\n",
    "\n",
    "# Tomar solo los primeros 35 elementos de ambas listas\n",
    "activos = activos[:35]\n",
    "inversiones_optimas = inversiones_optimas[:35]\n",
    "\n",
    "# Crear la gráfica de barras\n",
    "plt.figure(figsize=(12, 6))\n",
    "plt.bar(activos, inversiones_optimas)\n",
    "plt.xlabel(\"Activos\")\n",
    "plt.ylabel(\"Inversiones Óptimas (USD)\")\n",
    "plt.title(\"Inversiones Óptimas por Activo\")\n",
    "plt.xticks(rotation=90)  # Rotar etiquetas del eje x para mayor legibilidad\n",
    "\n",
    "# Mostrar la gráfica\n",
    "plt.tight_layout()\n",
    "plt.show()"
   ]
  }
 ],
 "metadata": {
  "kernelspec": {
   "display_name": "Python 3 (ipykernel)",
   "language": "python",
   "name": "python3"
  },
  "language_info": {
   "codemirror_mode": {
    "name": "ipython",
    "version": 3
   },
   "file_extension": ".py",
   "mimetype": "text/x-python",
   "name": "python",
   "nbconvert_exporter": "python",
   "pygments_lexer": "ipython3",
   "version": "3.11.4"
  }
 },
 "nbformat": 4,
 "nbformat_minor": 5
}
